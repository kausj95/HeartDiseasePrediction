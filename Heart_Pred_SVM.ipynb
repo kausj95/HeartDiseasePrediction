{
 "cells": [
  {
   "cell_type": "code",
   "execution_count": 1,
   "metadata": {},
   "outputs": [
    {
     "name": "stderr",
     "output_type": "stream",
     "text": [
      "H:\\MSinUS\\College\\Anaconda\\lib\\site-packages\\sklearn\\cross_validation.py:41: DeprecationWarning: This module was deprecated in version 0.18 in favor of the model_selection module into which all the refactored classes and functions are moved. Also note that the interface of the new CV iterators are different from that of this module. This module will be removed in 0.20.\n",
      "  \"This module will be removed in 0.20.\", DeprecationWarning)\n"
     ]
    }
   ],
   "source": [
    "#import pandas library\n",
    "import pandas as pd\n",
    "from matplotlib import pyplot as plt\n",
    "from sklearn import datasets, linear_model\n",
    "from sklearn import svm\n",
    "from sklearn.neighbors import KNeighborsClassifier\n",
    "from sklearn.linear_model import LogisticRegression\n",
    "from sklearn import metrics\n",
    "from sklearn.cross_validation import train_test_split\n"
   ]
  },
  {
   "cell_type": "code",
   "execution_count": 2,
   "metadata": {
    "collapsed": true
   },
   "outputs": [],
   "source": [
    "#read data file\n",
    "data0 = pd.read_csv(\"H:/MSinUS/College/CMPE272/data_x0_lat.csv\")\n",
    "data1 = pd.read_csv(\"H:/MSinUS/College/CMPE272/data_x1_lat.csv\")\n",
    "\n",
    "#give column names in dataset\n",
    "x0 = data0[['Age','Chest_pain','BP','Cholesterol','Fasting_blood_sugar','Resting_ECG','Max_HR','Exercise_induced_angina']]\n",
    "x1 = data1[['Age','Chest_pain','BP','Cholesterol','Fasting_blood_sugar','Resting_ECG','Max_HR','Exercise_induced_angina']]\n",
    "\n",
    "#response column \n",
    "y0 = data0['Angiographic_disease_prediction'] \n",
    "y1 = data1['Angiographic_disease_prediction'] \n"
   ]
  },
  {
   "cell_type": "code",
   "execution_count": 3,
   "metadata": {
    "collapsed": true
   },
   "outputs": [],
   "source": [
    "#preprocess standardization of data0\n",
    "x0_BP=(x0['BP'])\n",
    "x0_Age=(x0['Age'])\n",
    "x0_pain=(x0['Chest_pain'])\n",
    "x0_chol=(x0['Cholesterol'])\n",
    "x0_ecg=(x0['Resting_ECG'])\n",
    "x0_hr=(x0['Max_HR'])\n",
    "\n",
    "#preprocess standardization of data1\n",
    "x1_BP=(x1['BP'])\n",
    "x1_Age=(x1['Age'])\n",
    "x1_pain=(x1['Chest_pain'])\n",
    "x1_chol=(x1['Cholesterol'])\n",
    "x1_ecg=(x1['Resting_ECG'])\n",
    "x1_hr=(x1['Max_HR'])"
   ]
  },
  {
   "cell_type": "code",
   "execution_count": 4,
   "metadata": {
    "collapsed": true
   },
   "outputs": [],
   "source": [
    "bpTemp0=[]\n",
    "ageTemp0=[]\n",
    "painTemp0=[]\n",
    "cholTemp0=[]\n",
    "ecgTemp0=[]\n",
    "hrTemp0=[]\n",
    "for i in range (0,178):\n",
    "    bpTemp0.append((x0_BP[i] - 94)/106) #normalisation\n",
    "    ageTemp0.append((x0_Age[i] - 30)/46)\n",
    "    painTemp0.append((x0_pain[i] - 1)/3)\n",
    "    cholTemp0.append((x0_chol[i] - 100)/464)\n",
    "    ecgTemp0.append((x0_ecg[i] - 0)/2)\n",
    "    hrTemp0.append((x0_hr[i] - 90)/102)    \n",
    "\n",
    "bpTemp1=[]\n",
    "ageTemp1=[]\n",
    "painTemp1=[]\n",
    "cholTemp1=[]\n",
    "ecgTemp1=[]\n",
    "hrTemp1=[]\n",
    "for i in range (0,419):\n",
    "    bpTemp1.append((x1_BP[i] - 92)/108) #normalisation\n",
    "    ageTemp1.append((x1_Age[i] - 28)/49)\n",
    "    painTemp1.append((x1_pain[i] - 1)/3)\n",
    "    cholTemp1.append((x1_chol[i] - 85)/518)\n",
    "    ecgTemp1.append((x1_ecg[i] - 0)/2)\n",
    "    hrTemp1.append((x1_hr[i] - 71)/131)   "
   ]
  },
  {
   "cell_type": "code",
   "execution_count": 5,
   "metadata": {
    "collapsed": true
   },
   "outputs": [],
   "source": [
    "ageTemp0=pd.DataFrame(ageTemp0)\n",
    "ageTemp0=round(ageTemp0,2)\n",
    "painTemp0=pd.DataFrame(painTemp0)\n",
    "painTemp0=round(painTemp0,2)\n",
    "bpTemp0=pd.DataFrame(bpTemp0)\n",
    "bpTemp0=round(bpTemp0,2)\n",
    "cholTemp0=pd.DataFrame(cholTemp0)\n",
    "cholTemp0=round(cholTemp0,2)\n",
    "ecgTemp0=pd.DataFrame(ecgTemp0)\n",
    "ecgTemp0=round(ecgTemp0,2)\n",
    "hrTemp0=pd.DataFrame(hrTemp0)\n",
    "hrTemp0=round(hrTemp0,2)\n",
    "\n",
    "ageTemp1=pd.DataFrame(ageTemp1)\n",
    "ageTemp1=round(ageTemp1,2)\n",
    "painTemp1=pd.DataFrame(painTemp1)\n",
    "painTemp1=round(painTemp1,2)\n",
    "bpTemp1=pd.DataFrame(bpTemp1)\n",
    "bpTemp1=round(bpTemp1,2)\n",
    "cholTemp1=pd.DataFrame(cholTemp1)\n",
    "cholTemp1=round(cholTemp1,2)\n",
    "ecgTemp1=pd.DataFrame(ecgTemp1)\n",
    "ecgTemp1=round(ecgTemp1,2)\n",
    "hrTemp1=pd.DataFrame(hrTemp1)\n",
    "hrTemp1=round(hrTemp1,2)"
   ]
  },
  {
   "cell_type": "code",
   "execution_count": 6,
   "metadata": {
    "collapsed": true
   },
   "outputs": [],
   "source": [
    "x0=x0.drop('Age',1)\n",
    "x0['Age']=ageTemp0\n",
    "x0=x0.drop('Chest_pain',1)\n",
    "x0['Chest_pain']=painTemp0\n",
    "x0=x0.drop('BP',1)\n",
    "x0['BP']=bpTemp0\n",
    "x0=x0.drop('Cholesterol',1)\n",
    "x0['Cholesterol']=cholTemp0\n",
    "x0=x0.drop('Resting_ECG',1)\n",
    "x0['Resting_ECG']=ecgTemp0\n",
    "x0=x0.drop('Max_HR',1)\n",
    "x0['Max_HR']=hrTemp0\n",
    "\n",
    "x1=x1.drop('Age',1)\n",
    "x1['Age']=ageTemp1\n",
    "x1=x1.drop('Chest_pain',1)\n",
    "x1['Chest_pain']=painTemp1\n",
    "x1=x1.drop('BP',1)\n",
    "x1['BP']=bpTemp1\n",
    "x1=x1.drop('Cholesterol',1)\n",
    "x1['Cholesterol']=cholTemp1\n",
    "x1=x1.drop('Resting_ECG',1)\n",
    "x1['Resting_ECG']=ecgTemp1\n",
    "x1=x1.drop('Max_HR',1)\n",
    "x1['Max_HR']=hrTemp1"
   ]
  },
  {
   "cell_type": "code",
   "execution_count": 7,
   "metadata": {
    "collapsed": true
   },
   "outputs": [],
   "source": [
    "x_train = pd.concat([x0,x1],ignore_index=True)\n",
    "y_train = pd.concat([y0,y1],ignore_index=True)"
   ]
  },
  {
   "cell_type": "code",
   "execution_count": 8,
   "metadata": {
    "collapsed": true
   },
   "outputs": [],
   "source": [
    "#split the set in tranining and testing sets\n",
    "#x_train,x_test,y_train,y_test = train_test_split(x,y,test_size = 0.16)"
   ]
  },
  {
   "cell_type": "code",
   "execution_count": 12,
   "metadata": {},
   "outputs": [
    {
     "name": "stdout",
     "output_type": "stream",
     "text": [
      "KNeighborsClassifier(algorithm='auto', leaf_size=30, metric='hamming',\n",
      "           metric_params=None, n_jobs=1, n_neighbors=1, p=2,\n",
      "           weights='uniform')\n"
     ]
    }
   ],
   "source": [
    "#training the model with 70% data\n",
    "c = KNeighborsClassifier(n_neighbors=1,metric='hamming')\n",
    "#train the model\n",
    "c.fit(x_train,y_train)\n",
    "print(c)\n",
    "\n"
   ]
  },
  {
   "cell_type": "code",
   "execution_count": 13,
   "metadata": {},
   "outputs": [
    {
     "name": "stdout",
     "output_type": "stream",
     "text": [
      "56,4,132,184,0,2,105,1\n",
      "[0]\n"
     ]
    }
   ],
   "source": [
    "#prediction\n",
    "data1 = range(1,9)\n",
    "l1 = list(map(int, input().split(',')[:9]))\n",
    "data1 = [56,4,132,184,0,2,105,1]\n",
    "x_test = pd.DataFrame(data=l1)\n",
    "x_test = pd.DataFrame.transpose(x_test)\n",
    "predictionKNN = c.predict(x_test)\n",
    "print(predictionKNN)"
   ]
  },
  {
   "cell_type": "code",
   "execution_count": 11,
   "metadata": {},
   "outputs": [
    {
     "ename": "NameError",
     "evalue": "name 'y_test' is not defined",
     "output_type": "error",
     "traceback": [
      "\u001b[1;31m---------------------------------------------------------------------------\u001b[0m",
      "\u001b[1;31mNameError\u001b[0m                                 Traceback (most recent call last)",
      "\u001b[1;32m<ipython-input-11-eb7c855ccbf6>\u001b[0m in \u001b[0;36m<module>\u001b[1;34m()\u001b[0m\n\u001b[0;32m      2\u001b[0m \u001b[1;31m#make y_test as an array\u001b[0m\u001b[1;33m\u001b[0m\u001b[1;33m\u001b[0m\u001b[0m\n\u001b[0;32m      3\u001b[0m \u001b[1;32mimport\u001b[0m \u001b[0mnumpy\u001b[0m \u001b[1;32mas\u001b[0m \u001b[0mnp\u001b[0m\u001b[1;33m\u001b[0m\u001b[0m\n\u001b[1;32m----> 4\u001b[1;33m \u001b[0my_test\u001b[0m \u001b[1;33m=\u001b[0m \u001b[0mnp\u001b[0m\u001b[1;33m.\u001b[0m\u001b[0masarray\u001b[0m\u001b[1;33m(\u001b[0m\u001b[0my_test\u001b[0m\u001b[1;33m)\u001b[0m\u001b[1;33m\u001b[0m\u001b[0m\n\u001b[0m\u001b[0;32m      5\u001b[0m \u001b[0mprint\u001b[0m\u001b[1;33m(\u001b[0m\u001b[0my_test\u001b[0m\u001b[1;33m)\u001b[0m\u001b[1;33m\u001b[0m\u001b[0m\n",
      "\u001b[1;31mNameError\u001b[0m: name 'y_test' is not defined"
     ]
    }
   ],
   "source": [
    "#check accuracy\n",
    "#make y_test as an array\n",
    "import numpy as np\n",
    "y_test = np.asarray(y_test)\n",
    "print(y_test)"
   ]
  },
  {
   "cell_type": "code",
   "execution_count": null,
   "metadata": {
    "collapsed": true
   },
   "outputs": [],
   "source": [
    "#calculate accuracy\n",
    "from sklearn.metrics import f1_score\n",
    "accKNN = f1_score(predictionKNN,y_test,average='weighted')#metrics.accuracy_score(predictionKNN,y_test)\n",
    "accSVM = f1_score(predictionSVM,y_test,average='weighted')#f1_score(predictionSVM,y_test)\n",
    "accLogReg = f1_score(predictionSVM,y_test,average='weighted')\n",
    "print(accKNN*100)\n",
    "print(accSVM*100)\n",
    "print(accLogReg*100)"
   ]
  }
 ],
 "metadata": {
  "kernelspec": {
   "display_name": "Python 3",
   "language": "python",
   "name": "python3"
  },
  "language_info": {
   "codemirror_mode": {
    "name": "ipython",
    "version": 3
   },
   "file_extension": ".py",
   "mimetype": "text/x-python",
   "name": "python",
   "nbconvert_exporter": "python",
   "pygments_lexer": "ipython3",
   "version": "3.6.3"
  }
 },
 "nbformat": 4,
 "nbformat_minor": 2
}
