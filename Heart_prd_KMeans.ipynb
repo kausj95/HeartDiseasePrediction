{
 "cells": [
  {
   "cell_type": "code",
   "execution_count": 77,
   "metadata": {},
   "outputs": [],
   "source": [
    "#import pandas library\n",
    "import pandas as pd\n",
    "from matplotlib import pyplot as plt\n",
    "from sklearn import datasets, linear_model\n",
    "from sklearn.cross_validation import train_test_split\n",
    "from sklearn import cluster\n",
    "from sklearn import metrics\n",
    "\n",
    "#read data file\n",
    "data = pd.read_csv(\"H:/MSinUS/College/CMPE272/data_processed.csv\")\n",
    "\n",
    "#1st 5 rows\n",
    "data.head()\n",
    "\n",
    "#dimensions\n",
    "data.shape\n",
    "\n",
    "#give column names in dataset\n",
    "x = data[['Age','Gender','Chest_pain','BP','Cholesterol','Fasting_blood_sugar','Resting_ECG','Max_HR','Exercise_induced_angina']]\n",
    "\n",
    "#response column \n",
    "y = data['Angiographic_disease_prediction'] "
   ]
  },
  {
   "cell_type": "code",
   "execution_count": 79,
   "metadata": {
    "collapsed": true
   },
   "outputs": [],
   "source": [
    "#split the set in tranining and testing sets\n",
    "x_train,x_test,y_train,y_test = train_test_split(x,y,test_size = 0.3)"
   ]
  },
  {
   "cell_type": "code",
   "execution_count": 80,
   "metadata": {},
   "outputs": [
    {
     "data": {
      "text/plain": [
       "KMeans(algorithm='auto', copy_x=True, init='k-means++', max_iter=300,\n",
       "    n_clusters=4, n_init=10, n_jobs=1, precompute_distances='auto',\n",
       "    random_state=None, tol=0.0001, verbose=0)"
      ]
     },
     "execution_count": 80,
     "metadata": {},
     "output_type": "execute_result"
    }
   ],
   "source": [
    "#trining the model with 70% data\n",
    "c = cluster.KMeans(n_clusters=4)\n",
    "c.fit(x_train,y_train)"
   ]
  },
  {
   "cell_type": "code",
   "execution_count": 81,
   "metadata": {
    "collapsed": true
   },
   "outputs": [],
   "source": [
    "#prediction using the model\n",
    "predict = c.predict(x_test)"
   ]
  },
  {
   "cell_type": "code",
   "execution_count": 82,
   "metadata": {},
   "outputs": [
    {
     "name": "stdout",
     "output_type": "stream",
     "text": [
      "[1 2 1 3 0 3 1 0 2 3 0 3 1 0 3 3 0 0 0 1 3 1 2 2 0 3 1 0 2 0 0 3 2 1 0 1 0\n",
      " 3 0 0 0 2 0 2 1 0 1 3 3 2 1 1 0 0 0 3 1 2 3 3 0 3 2 1 3 0 1 0 0 2 1 0 0 1\n",
      " 3 1 0 0 3 1 2 1 3 1 0 1 2 0 0 0 2]\n",
      "6      3\n",
      "137    3\n",
      "139    0\n",
      "152    0\n",
      "4      0\n",
      "26     0\n",
      "73     1\n",
      "61     0\n",
      "81     0\n",
      "90     0\n",
      "29     3\n",
      "150    0\n",
      "237    1\n",
      "24     4\n",
      "227    0\n",
      "272    2\n",
      "136    4\n",
      "20     0\n",
      "64     2\n",
      "120    3\n",
      "173    0\n",
      "19     0\n",
      "189    2\n",
      "258    0\n",
      "264    4\n",
      "184    1\n",
      "211    4\n",
      "204    0\n",
      "259    1\n",
      "116    0\n",
      "      ..\n",
      "63     0\n",
      "76     1\n",
      "176    0\n",
      "75     0\n",
      "232    1\n",
      "240    0\n",
      "41     0\n",
      "112    0\n",
      "193    2\n",
      "179    0\n",
      "14     0\n",
      "115    0\n",
      "16     1\n",
      "82     0\n",
      "133    0\n",
      "300    3\n",
      "174    4\n",
      "280    2\n",
      "213    3\n",
      "108    2\n",
      "89     0\n",
      "68     2\n",
      "263    0\n",
      "91     3\n",
      "0      0\n",
      "65     2\n",
      "36     3\n",
      "283    0\n",
      "267    2\n",
      "2      1\n",
      "Name: Angiographic_disease_prediction, Length: 91, dtype: int64\n"
     ]
    }
   ],
   "source": [
    "#print o/p\n",
    "predict\n",
    "print(predict)\n",
    "y_test\n",
    "print(y_test)"
   ]
  },
  {
   "cell_type": "code",
   "execution_count": 83,
   "metadata": {},
   "outputs": [],
   "source": [
    "#check accuracy\n",
    "#make y_test as an array\n",
    "import numpy as np\n",
    "np.asarray(y_test)\n",
    "\n",
    "#calculate accuracy\n",
    "acc = metrics.accuracy_score(y_test,predict)"
   ]
  },
  {
   "cell_type": "code",
   "execution_count": 84,
   "metadata": {},
   "outputs": [
    {
     "data": {
      "text/plain": [
       "0.32967032967032966"
      ]
     },
     "execution_count": 84,
     "metadata": {},
     "output_type": "execute_result"
    }
   ],
   "source": [
    "acc"
   ]
  }
 ],
 "metadata": {
  "kernelspec": {
   "display_name": "Python 3",
   "language": "python",
   "name": "python3"
  },
  "language_info": {
   "codemirror_mode": {
    "name": "ipython",
    "version": 3
   },
   "file_extension": ".py",
   "mimetype": "text/x-python",
   "name": "python",
   "nbconvert_exporter": "python",
   "pygments_lexer": "ipython3",
   "version": "3.6.3"
  }
 },
 "nbformat": 4,
 "nbformat_minor": 2
}
